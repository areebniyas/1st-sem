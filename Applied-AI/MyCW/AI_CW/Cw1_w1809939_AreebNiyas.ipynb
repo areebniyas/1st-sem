{
  "cells": [
    {
      "cell_type": "markdown",
      "source": [
        "# **Automated Classification of Toxicity in Tweets**\n",
        "\n",
        "**Project by : Areeb niyas**\n",
        "\n",
        "**IIT ID : 20200129**\n",
        "\n",
        "**UOW ID : W1809939**\n"
      ],
      "metadata": {
        "id": "x8FX1LfqZTD6"
      }
    },
    {
      "cell_type": "markdown",
      "source": [
        "# 1 Introduction\n",
        "\n",
        "Automated classification of toxicity in tweets or text in general is an important aspect in the realm of speech and text recognition and social media. It refers to identifying patterns in data that deviate significantly from the norm. The goal is to identify hate speech or offensive language that could indicate immoral behavior and mitigate consequences prior to significant damage and viral movement. Identifying toxicity in tweets could be challenging because it requires the ability to detect toxic behavior even in subjective circumstances. Machine learning techniques such as Naive Bayes, Support Vector Machine, Logistic Regression and K-nearest Neighbor are commonly used for classification of toxicity in tweets.\n",
        "\n",
        "In this project the author has elaborated about the problem domain and research. A thorough literature review was conducted to evaluate and identify different techniques and algorithms that can be used in this domain, especially using AI followed by a comparison and evaluation of the common ML techniques used in this domain.\n",
        "\n",
        "Moving on, the author implemented a prototype using a LSTM (Long Short Term Memory) model to classify the toxicity in tweets accurately. LSTM is a type of a neural network, RNN (recurrent neural network) to be exact. LSTMS were primarily architectured to handle the challenges of learning and remembering long-term dependencies in sequential data. LSTMs are particularly effective in tasks involving natural language processing, time series analysis, and speech recognition.\n",
        "\n",
        "Finally, the model was tested and evaluated against multiple metrics and graphs such as accuracy, precision, recall, auc score, f1 score along with the ROC curve. The author ends with his remarks on the overview and effectiveness of using LSTMs for automated classification of toxicity in tweets.\n"
      ],
      "metadata": {
        "id": "RH3fDbEBH-xS"
      }
    },
    {
      "cell_type": "markdown",
      "source": [
        "# 2 Part A - Application Area Review"
      ],
      "metadata": {
        "id": "jgPTuyISICpn"
      }
    },
    {
      "cell_type": "markdown",
      "source": [
        "## 2.1 Problem Domain\n",
        "\n",
        "The automated classification of hate speech and toxicity in tweets is a vital task in enabling a safer and friendly online environment. Detecting and mitigating harmful, offensive and hateful language is crucial in preventing harassment, cyber bullying and the spread of toxic and harmful content. Therefore, this type of analysis and classification is important in the realm of social media and text recognition as it can help identify potential problems or issues before they cause significant damage.\n",
        "\n",
        "The main goal of automated classification of toxicity in tweets is to identify which patterns of text deviate significantly from normal text. This can be done using various machine learning techniques such as Naïve Bayes, clustering, and deep learning.\n"
      ],
      "metadata": {
        "id": "eu0h4U-q8433"
      }
    },
    {
      "cell_type": "markdown",
      "source": [
        "## 2.1 Literature review on AI for Automated Classification of Toxicity in Tweets\n",
        "\n",
        "AI has many applications in various domains, such as education, health, entertainment, business, and social media. One of the challenges and opportunities of applying AI to social media platforms, such as Twitter is to detect and prevent hate speech. Hate speech can be considered as any form of expression that attacks or insults a person or a group based on their identity, such as race, religion, gender, sexual orientation, disability, or nationality (Davidson et al., 2017).\n",
        "\n",
        "Hate speech on Twitter is a serious problem that can have negative impacts on individuals and society, such as psychological harm, discrimination, violence and radicalization. According to a report by the Anti-Defamation League, there were 4.2 million anti-Semitic tweets posted by 3 million users in 2017, which represents an increase of 38% from 2016 (ADL, 2018). Moreover, a study by Amnesty International found that 7.1% of tweets sent to women politicians and journalists in 2017 were abusive or problematic, which amounts to one abusive tweet every 30 seconds (Amnesty International, 2018). Therefore, to ensure the safety of victims as well as ethical and maintain ethical and standards on platforms there is a need to for effective and efficient methods and tools to detect and counter hate speech on Twitter.\n",
        "\n",
        "However, hate speech detection on Twitter is a very challenging task, due to the complexity and diversity of the natural language used on the platform, such as slang, abbreviations, emojis, hashtags, sarcasm, irony, and humor.\n",
        "\n",
        "In recent years, AI has been increasingly applied to the domain of hate speech detection on Twitter, using various techniques and methods, such as natural language processing, machine learning, deep learning and computer vision.\n",
        "\n",
        "Some of the main techniques and methods that have been used for hate speech detection on Twitter are:\n",
        "\n",
        "* **Support vector machine**: SVM can handle high-dimensional and\n",
        "non-linear data, and avoid overfitting by finding the best hyperplane that maximizes the margin/distance between the closes data points of different classes. For example, Nobata et al. (2016) used SVM to detect hate speech on Twitter, based on various features, such as word n-grams, character n-grams, part-of-speech tags, sentiment scores, and topic models. They found that SVM achieved an F1 score of 0.84, which was higher than other methods, such as Naive Bayes, logistic regression, and random forest.\n",
        "\n",
        "* **Pre-trained language models**: Pre-trained language models are deep learning models that have been trained on large amounts of text, such as BERT, GPT, or XLNet, to learn the general patterns and structures of natural language. Pre-trained language models can be fine-tuned or adapted to specific tasks or domains, such as hate speech detection, by adding additional layers or parameters, and using a smaller amount of labeled data. For example, Aluru et al. (2020) used BERT, a pre-trained language model based on the transformer architecture, to classify tweets as hateful or not. They found that BERT achieved an F1 score of 0.91, which was higher than other baselines, such as SVM, CNN, and LSTM.\n",
        "\n",
        "* **Deep learning techniques**: Deep learning models attain the most relevant or important parts of the input or output, such as words, sentences, or images. Attention mechanisms in specific can enhance the performance of deep learning models by providing a way to weigh or highlight importance of each result to the output. For example, Zhang et al. (2018) used an attention-based LSTM model to detect hate speech on Twitter, by assigning different weights to different words in a tweet, based on their relevance to the task. They found that their attention-based LSTM model achieved an F1 score of 0.77, which was higher than other models, such as SVM, CNN, and LSTM without attention.\n",
        "\n",
        "These are some of the examples of how AI is applied to the domain of hate speech detection on Twitter, using various techniques and methods. However, there are still many challenges and limitations that need to be addressed and tackeld, such as the lack of consistent and reliable datasets, the difficulty of capturing the meaning and interpretability of hate speech, the ethical and the potential biases and harms of AI systems. Therefore, there is a need for further research and innovation in this domain, to develop more effective, efficient, robust and responsible AI solutions for hate speech detection on Twitter.\n"
      ],
      "metadata": {
        "id": "2esP2m-n9Ev5"
      }
    },
    {
      "cell_type": "markdown",
      "source": [
        "# 3 Part B - Compare and Evaluate AI Techniques"
      ],
      "metadata": {
        "id": "y9kNANyjIMfn"
      }
    },
    {
      "cell_type": "markdown",
      "source": [
        "The author’s research is based on automated classification of toxicity in tweets. In this section, the author analyzes the possible machine learning techniques that can be used for automated classification of toxicity in tweets and implements a technique which detects the toxicity in tweets.\n",
        "\n",
        "The goal of the project is to identify the possible machine learning techniques that can be used for the classification of toxicity in tweets. Analyze each of the techniques and identify their strengths, weakness, advantages and disadvantages and finally implement a machine learning technique that gives out  good accuracy of the prediction.\n",
        "\n",
        "The 3 AI techniques in this project that will be explored and discussed further for classification of toxicity in tweets are:\n",
        "1.\tSupport Vector Machine\n",
        "2.\tRandom Forest\n",
        "3.\tLSTM (Long Short-Term Memory)\n",
        "\n",
        "**Support Vector Machines (SVM):**\n",
        "\n",
        "SVM can be applied by representing tweets as feature vectors using techniques like TF-IDF or word embeddings. SVM attempts to create a hyperplane that separates hate speech from non-hate speech in the feature space.\n",
        "\n",
        "Generally, the input data for SVM typically involves preprocessed text data in vectorized form (e.g., TF-IDF or word embeddings). The expected output is a binary classification indicating whether a tweet contains hate speech or not.\n",
        "\n",
        "Strengths:\n",
        "\n",
        "1. Effective in High-Dimensional Spaces: SVM works well in high-dimensional spaces, making it suitable for text classification tasks with a lot of features.\n",
        "\n",
        "2. Robust to Overfitting: SVM is less prone to overfitting, especially in high-dimensional spaces, due to its margin maximization objective.\n",
        "\n",
        "3. Versatility: It can handle various types of data including non-linear data by using different kernel functions.\n",
        "\n",
        "\n",
        "Weaknesses:\n",
        "\n",
        "1. Computational Intensity: SVM can be computationally intensive, especially with large datasets.\n",
        "\n",
        "2. Difficulty with Noisy Data: It may perform poorly with noisy data or when classes are heavily overlapping.\n",
        "\n",
        "3. Parameter Sensitivity: The performance of SVM is sensitive to the choice of hyperparameters, and finding the optimal parameters can be challenging.\n",
        "\n",
        "Overall, SVM is an efficient and versatile algorithm which can handle high-dimensional data and overfitting. However, it may not do well in environments which have a lot of noise and less computation capabilities.\n",
        "\n",
        "**Random Forest**:\n",
        "\n",
        "Random Forest can be applied to hate speech detection by using features extracted from tweets and training an ensemble of decision trees. Each tree contributes to the final classification decision.\n",
        "\n",
        "Random Forest, like SVM, requires vectorized input data. The expected output is a binary classification indicating whether a tweet contains hate speech or not.\n",
        "\n",
        "Strengths:\n",
        "\n",
        "1. Ensemble Learning: Random Forest is an ensemble method, combining multiple decision trees, which helps improve accuracy and generalization.\n",
        "\n",
        "2. Robust to Overfitting: Similar to SVM, Random Forest is less prone to overfitting.\n",
        "\n",
        "3. Handles Non-Linearity: It can capture complex relationships and non-linear patterns in the data.\n",
        "\n",
        "Weaknesses:\n",
        "\n",
        "1. Interpretability: Random Forest models are often considered as \"black boxes,\" making it challenging to interpret the reasoning behind predictions.\n",
        "\n",
        "2. Computationally Intensive Training: Training a large number of trees can be computationally expensive.\n",
        "\n",
        "3. Potential for Bias: If the dataset is imbalanced, Random Forest may show bias towards the majority class.\n",
        "\n",
        "Overall, random forest is a powerful and versatile tool which can handle non-linearity well and is robust to overfitting. It also can be generalized due to its ensemble structure. However, it requires a lot of computational power, and it has the potential for biases. Also, it is quite difficult to interpret the meaning behind its predictions.\n",
        "\n",
        "**Long Short-Term Memory (LSTM)**:\n",
        "\n",
        "LSTMs can be applied to hate speech detection by treating tweets as sequential data and learning the temporal patterns of hate speech. The sequential nature of LSTMs allows them to capture context and dependencies between words in a tweet.\n",
        "\n",
        "LSTMs require tokenized and sequenced input data. The expected output is, similar to other techniques, a binary classification indicating whether a tweet contains hate speech or not.\n",
        "\n",
        "Strengths:\n",
        "1. Sequential Learning: LSTM is designed to capture dependencies and patterns in sequential data, making it suitable for analyzing the temporal nature of tweets.\n",
        "\n",
        "2. Handles Variable-Length Sequences: LSTMs can process variable-length sequences, which is beneficial for tweets of varying lengths.\n",
        "\n",
        "3. Effective for Text Data: LSTMs are particularly effective in handling natural language processing tasks due to their ability to capture long-range dependencies.\n",
        "\n",
        "Weaknesses:\n",
        "\n",
        "1. Computational Complexity: Training LSTMs can be computationally expensive, especially with large datasets.\n",
        "\n",
        "2. Prone to Overfitting: LSTMs can be prone to overfitting, and regularization techniques may be necessary.\n",
        "\n",
        "3. Interpretability: Like other deep learning models, LSTMs can be challenging to interpret.\n",
        "\n",
        "Overall, LSTM can handle text with multiple variations and sizes and is efficient for sequential data. It is however prone to overfitting and requires high computational power.\n",
        "\n",
        "In summary, AI techniques have been used in text recognition and social media widely and the choice of the most optimal technique in order to classify toxicity in tweets depends on various factors. Such as: computational power, availability od data, high dimensional spaces, sequential and nature of the data. Due to the above comparison and evaluation, the author will conduct a LSTM based approach for the prototype due the data being sequential and the handling of text data at varying sizes and sequences."
      ],
      "metadata": {
        "id": "Wxm9dRU6ZqWU"
      }
    },
    {
      "cell_type": "markdown",
      "source": [
        "# **4 Part C – Implementation**"
      ],
      "metadata": {
        "id": "_I-2ls5qu6Jp"
      }
    },
    {
      "cell_type": "markdown",
      "source": [
        "## 4.1 High Level Diagram\n",
        "\n",
        "[***View High Level Diagram***](https://drive.google.com/file/d/156MR8RYjFOdaa4S8meUGvlZtSy5m0P0Q/view?usp=sharing)"
      ],
      "metadata": {
        "id": "xaBojQgEvQ1i"
      }
    },
    {
      "cell_type": "markdown",
      "source": [
        "## 4.2 Data\n",
        "\n",
        "In developing an accurate and robust classification of a toxicity model, one of the most important steps and the foundation lies in gathering diverse and comprehensive data. The success of the model will depend highly on balanced representation of target classes to contextually enhance the model's ability and generalize accurately within different levels of toxicity\n",
        "\n",
        "In the nature of twitter or tweets, it is more likely to have non hate speech tweets rather than tweets with hate and offensive language. Therefore, datasets are bound to have more non hate speech data rather than hate speech data which could lead to a data imbalance.\n",
        "\n"
      ],
      "metadata": {
        "id": "tJhh78Buv4zZ"
      }
    },
    {
      "cell_type": "markdown",
      "source": [
        "**Data Collection**\n",
        "\n",
        "The data for this project was gathered from publicly available datasets with the licence CC0: Public Domain. 2 datasets were collected due to the nature of this project which will be explored below.\n",
        "\n",
        "\n",
        "\n",
        "1.   First Dataset\n",
        "  This dataset had only 2 labels which consisted of hate speech tweets and non hate speech tweets. However, due to the nature of tweets there was a huge data imbalance as the number of hate speech tweets were significantly less which could have led to a bias model.\n",
        "2. Second Dataset\n",
        "  In order to counter the data imbalance, a two-fold strategy was implemented which was to incorporate another dataset to get more data for the hatespeech section. However, this second dataset had 3 labels consisting of hatespeech, offensive language and neither. So it is required to get this dataset on par with the first dataset to maintain consistency and format the data so that the pre processing steps could be implemented.\n",
        "\n"
      ],
      "metadata": {
        "id": "FdNDoH3YxzK-"
      }
    },
    {
      "cell_type": "markdown",
      "source": [
        "**Thematic Analysis**\n",
        "\n",
        "Since there are 3 labels in the second dataset. thematic analysis conducted will help explore the second dataset. By conducting a thematic analysis, it can be identified if there is a significant difference between offensive language tweets and hate speech tweets. This consolidation helped streamline the classification task and increase the number of data available for hatespeech."
      ],
      "metadata": {
        "id": "o16zwAeNxr_x"
      }
    },
    {
      "cell_type": "markdown",
      "source": [
        "**Pre processing data**\n",
        "\n",
        "1. Data Visualization:\n",
        "\n",
        "  Visualizing the distribution of hate speech and non-hate speech instances helps to understand the data imbalance.\n",
        "\n",
        "2. Data Concatenation:\n",
        "\n",
        "  Combining datasets ensures a more comprehensive representation of hate speech instances, addressing imbalances and improving model generalization.\n",
        "\n",
        "3. Handle Missing Values:\n",
        "\n",
        "  Identifying and addressing missing values is crucial to prevent potential biases or disruptions during model training.\n",
        "4. Drop Unnecessary Data:\n",
        "\n",
        "  Removing irrelevant or redundant features minimizes noise.\n",
        "\n",
        "5. Clean Text:\n",
        "\n",
        "  Text cleaning is one of the most important steps which involves: lowercase, removing special characters, punctuation and symbols which in turd would enhance the model's ability to extract meaningful patterns from the textual data.\n",
        "\n",
        "6. Reduce Noise:\n",
        "\n",
        "  Noise reduction techniques, such as stemming which will help reduce lexical variations.\n",
        "\n",
        "7. Data Vectorization:\n",
        "\n",
        "  Transforming text into numerical vectors is essential for LSTM models because it enables the LSTM to process and analyze textual information which would help the training process\n",
        "8. Data Transformation:\n",
        "\n",
        "  Tokenization and padding ensures uniform input dimensions which in turn would  allow the LSTM model to effectively learn sequential patterns in the textual data."
      ],
      "metadata": {
        "id": "S6V8reQIxfRO"
      }
    },
    {
      "cell_type": "markdown",
      "source": [
        "## **4.3 Prototype**"
      ],
      "metadata": {
        "id": "9x5I3nUwuibM"
      }
    },
    {
      "cell_type": "code",
      "execution_count": null,
      "metadata": {
        "id": "I4164F2sxJBE",
        "colab": {
          "base_uri": "https://localhost:8080/"
        },
        "outputId": "d4b2d85c-d74d-4e1b-8b0f-3a7f4916a005"
      },
      "outputs": [
        {
          "output_type": "stream",
          "name": "stderr",
          "text": [
            "[nltk_data] Downloading package stopwords to /root/nltk_data...\n",
            "[nltk_data]   Unzipping corpora/stopwords.zip.\n"
          ]
        },
        {
          "output_type": "execute_result",
          "data": {
            "text/plain": [
              "True"
            ]
          },
          "metadata": {},
          "execution_count": 1
        }
      ],
      "source": [
        "# Import required libraries.\n",
        "import numpy as np\n",
        "import pandas as pd\n",
        "import matplotlib.pyplot as plt\n",
        "import seaborn as sns\n",
        "from keras.models import Model, Sequential\n",
        "from keras.layers import LSTM, Activation, Dense, Dropout, Input, Embedding, SpatialDropout1D\n",
        "from keras.optimizers import RMSprop\n",
        "from keras.preprocessing.text import Tokenizer\n",
        "from keras.preprocessing import sequence\n",
        "from keras.callbacks import EarlyStopping\n",
        "from sklearn.feature_extraction.text import CountVectorizer, TfidfTransformer\n",
        "from sklearn.model_selection import train_test_split\n",
        "\n",
        "# Import libraries for text pre processing.\n",
        "import re\n",
        "import string\n",
        "import nltk\n",
        "from nltk.corpus import stopwords\n",
        "nltk.download('stopwords')"
      ]
    },
    {
      "cell_type": "markdown",
      "source": [
        "### Data Pre-Processing"
      ],
      "metadata": {
        "id": "q-MM8UTerAS8"
      }
    },
    {
      "cell_type": "markdown",
      "source": [
        "### Read dataset"
      ],
      "metadata": {
        "id": "rTSxAFQlssy4"
      }
    },
    {
      "cell_type": "code",
      "execution_count": null,
      "metadata": {
        "colab": {
          "base_uri": "https://localhost:8080/"
        },
        "id": "_69uK9EGxJBH",
        "outputId": "5978fa05-dae2-4147-c4c2-2c68f873bc60"
      },
      "outputs": [
        {
          "output_type": "stream",
          "name": "stdout",
          "text": [
            "   id  label                                              tweet\n",
            "0   1      0   @user when a father is dysfunctional and is s...\n",
            "1   2      0  @user @user thanks for #lyft credit i can't us...\n",
            "2   3      0                                bihday your majesty\n",
            "3   4      0  #model   i love u take with u all the time in ...\n",
            "4   5      0             factsguide: society now    #motivation\n",
            "(31962, 3)\n"
          ]
        }
      ],
      "source": [
        "# Read dataset.\n",
        "df_train = pd.read_csv('train.csv')\n",
        "print(df_train.head())\n",
        "print(df_train.shape)"
      ]
    },
    {
      "cell_type": "markdown",
      "source": [
        "### Data visualization for Primary Dataset"
      ],
      "metadata": {
        "id": "oa0QFoK2szVr"
      }
    },
    {
      "cell_type": "code",
      "source": [
        "# Print number of values for each class.\n",
        "class_count = df_train['label'].value_counts()\n",
        "\n",
        "# Print number of hate and non-hate tweets.\n",
        "print('Number of hate tweets: {}'.format(class_count[1]))\n",
        "print('Number of non-hate tweets: {}'.format(class_count[0]))"
      ],
      "metadata": {
        "id": "8nZ5aOHNmNmE",
        "colab": {
          "base_uri": "https://localhost:8080/"
        },
        "outputId": "a3507190-227a-4d66-c385-1d1ba74d29b0"
      },
      "execution_count": null,
      "outputs": [
        {
          "output_type": "stream",
          "name": "stdout",
          "text": [
            "Number of hate tweets: 2242\n",
            "Number of non-hate tweets: 29720\n"
          ]
        }
      ]
    },
    {
      "cell_type": "code",
      "source": [
        "# Plot the distribution of the target variable.\n",
        "plt.pie(df_train['label'].value_counts(), labels=['Neither', 'Hate'], autopct='%1.1f%%', shadow=True, startangle=90)\n",
        "plt.title('Distribution of tweets')\n",
        "plt.show()"
      ],
      "metadata": {
        "colab": {
          "base_uri": "https://localhost:8080/",
          "height": 428
        },
        "id": "_pnpI6a9YjE4",
        "outputId": "df453988-c545-4348-fa6b-d20ad762ecc5"
      },
      "execution_count": null,
      "outputs": [
        {
          "output_type": "display_data",
          "data": {
            "text/plain": [
              "<Figure size 640x480 with 1 Axes>"
            ],
            "image/png": "[encoded data removed]"
          },
          "metadata": {}
        }
      ]
    },
    {
      "cell_type": "markdown",
      "source": [
        "### Dataset Imbalance\n",
        "In this pie chart and analysis above, you can clearly see that there is a huge dataset imbalance between tweets that represent hate speech and tweets that do not have any hate speech according to the labels. This means that one class is significantly higher and could lead to biases when training and evaluation metrics will lead to not being adequate. Therefore we need to solve this problem."
      ],
      "metadata": {
        "id": "3Su9SSaXlTOc"
      }
    },
    {
      "cell_type": "code",
      "execution_count": null,
      "metadata": {
        "colab": {
          "base_uri": "https://localhost:8080/"
        },
        "id": "TWMbfl_AxJBI",
        "outputId": "58ae7069-c35f-4b50-b8d5-6fe2ed2cb54c"
      },
      "outputs": [
        {
          "output_type": "stream",
          "name": "stdout",
          "text": [
            "id       0\n",
            "label    0\n",
            "tweet    0\n",
            "dtype: int64\n",
            "None\n"
          ]
        }
      ],
      "source": [
        "# Check for null values.\n",
        "print(df_train.isnull().sum())\n",
        "\n",
        "# Drop columns that are not required.\n",
        "print(df_train.drop('id',axis=1,inplace=True))"
      ]
    },
    {
      "cell_type": "markdown",
      "source": [
        "### Approach to Solve Data Imbalance\n",
        "The main idea is to gather more date by incorporating a new dataset. It was noticed that the new dataset has 3 labels: hate speech, offnesive language and neither. After analyzing these labels, it was observed that the labels 'hate speech' and 'offensive language' in the new dataset share significant similarities. Therefore, it was decided to merge these two labels into a single category, this way we can get more data for hate speech and it also aligns with our objective of mitigating the data imbalance."
      ],
      "metadata": {
        "id": "RI_5NeofrRSq"
      }
    },
    {
      "cell_type": "code",
      "execution_count": null,
      "metadata": {
        "id": "VN4twJeUxJBJ",
        "colab": {
          "base_uri": "https://localhost:8080/"
        },
        "outputId": "9b6088ec-d49a-437f-a630-8708e983f591"
      },
      "outputs": [
        {
          "output_type": "stream",
          "name": "stdout",
          "text": [
            "   Unnamed: 0  count  hate_speech  offensive_language  neither  class  \\\n",
            "0           0      3            0                   0        3      2   \n",
            "1           1      3            0                   3        0      1   \n",
            "2           2      3            0                   3        0      1   \n",
            "3           3      3            0                   2        1      1   \n",
            "4           4      6            0                   6        0      1   \n",
            "\n",
            "                                               tweet  \n",
            "0  !!! RT @mayasolovely: As a woman you shouldn't...  \n",
            "1  !!!!! RT @mleew17: boy dats cold...tyga dwn ba...  \n",
            "2  !!!!!!! RT @UrKindOfBrand Dawg!!!! RT @80sbaby...  \n",
            "3  !!!!!!!!! RT @C_G_Anderson: @viva_based she lo...  \n",
            "4  !!!!!!!!!!!!! RT @ShenikaRoberts: The shit you...  \n",
            "   class                                              tweet\n",
            "0      2  !!! RT @mayasolovely: As a woman you shouldn't...\n",
            "1      1  !!!!! RT @mleew17: boy dats cold...tyga dwn ba...\n",
            "2      1  !!!!!!! RT @UrKindOfBrand Dawg!!!! RT @80sbaby...\n",
            "3      1  !!!!!!!!! RT @C_G_Anderson: @viva_based she lo...\n",
            "4      1  !!!!!!!!!!!!! RT @ShenikaRoberts: The shit you...\n"
          ]
        }
      ],
      "source": [
        "# Read another dataset\n",
        "df_new=pd.read_csv(\"labeled_data.csv\")\n",
        "print(df_new.head())\n",
        "\n",
        "# Drop columns that are not required.\n",
        "df_new.drop(['Unnamed: 0','count','hate_speech','offensive_language','neither'],axis=1,inplace=True)\n",
        "print(df_new.head())"
      ]
    },
    {
      "cell_type": "markdown",
      "source": [
        "### Data Visualization for New Dataset"
      ],
      "metadata": {
        "id": "R2-uvcp2s_WK"
      }
    },
    {
      "cell_type": "code",
      "source": [
        "# Plot the distribution of the target variable.\n",
        "plt.pie(df_new['class'].value_counts(), labels=['neither', 'offensive', 'hate'], autopct='%1.1f%%')\n",
        "plt.title('Distribution of Tweets in new dataset')\n",
        "plt.show()"
      ],
      "metadata": {
        "colab": {
          "base_uri": "https://localhost:8080/",
          "height": 428
        },
        "id": "HmU3rdfgcVIY",
        "outputId": "d729d3d9-b268-4180-c736-ee01cd220d4f"
      },
      "execution_count": null,
      "outputs": [
        {
          "output_type": "display_data",
          "data": {
            "text/plain": [
              "<Figure size 640x480 with 1 Axes>"
            ],
            "image/png": "[encoded data removed]"
          },
          "metadata": {}
        }
      ]
    },
    {
      "cell_type": "code",
      "execution_count": null,
      "metadata": {
        "colab": {
          "base_uri": "https://localhost:8080/"
        },
        "id": "HnLDKgUbxJBK",
        "outputId": "32ed1b8a-45fb-42d6-8887-4dbccd4a9753"
      },
      "outputs": [
        {
          "output_type": "stream",
          "name": "stdout",
          "text": [
            "neither: 19190\n",
            "offensive: 4163\n",
            "hate: 1430\n"
          ]
        }
      ],
      "source": [
        "# Print number of values for each class.\n",
        "class_counts = df_new['class'].value_counts()\n",
        "\n",
        "# Print the names and corresponding counts for each class/target variable.\n",
        "for class_label, count in class_counts.items():\n",
        "    if class_label == 1:\n",
        "        class_name = 'neither'\n",
        "    elif class_label == 0:\n",
        "        class_name = 'hate'\n",
        "    elif class_label == 2:\n",
        "        class_name = 'offensive'\n",
        "    else:\n",
        "        class_name = 'unknown'  # Handle other cases if necessary\n",
        "\n",
        "    print(f'{class_name}: {count}')"
      ]
    },
    {
      "cell_type": "code",
      "execution_count": null,
      "metadata": {
        "colab": {
          "base_uri": "https://localhost:8080/"
        },
        "id": "mwqifJQlxJBK",
        "outputId": "2fe88931-d2df-4cb6-eb68-b8f99d53c6c9"
      },
      "outputs": [
        {
          "output_type": "stream",
          "name": "stderr",
          "text": [
            "<ipython-input-9-8b6de28845a0>:1: SettingWithCopyWarning: \n",
            "A value is trying to be set on a copy of a slice from a DataFrame.\n",
            "Try using .loc[row_indexer,col_indexer] = value instead\n",
            "\n",
            "See the caveats in the documentation: https://pandas.pydata.org/pandas-docs/stable/user_guide/indexing.html#returning-a-view-versus-a-copy\n",
            "  df_new[df_new['class']==0]['class']=1\n"
          ]
        }
      ],
      "source": [
        "df_new[df_new['class']==0]['class']=1"
      ]
    },
    {
      "cell_type": "code",
      "execution_count": null,
      "metadata": {
        "colab": {
          "base_uri": "https://localhost:8080/"
        },
        "id": "TJheh5cgxJBL",
        "outputId": "cb9965dc-d24d-4f7d-b1ae-f917d2b3ec02"
      },
      "outputs": [
        {
          "output_type": "execute_result",
          "data": {
            "text/plain": [
              "array([2, 1, 0])"
            ]
          },
          "metadata": {},
          "execution_count": 10
        }
      ],
      "source": [
        "df_new['class'].unique()"
      ]
    },
    {
      "cell_type": "code",
      "execution_count": null,
      "metadata": {
        "colab": {
          "base_uri": "https://localhost:8080/"
        },
        "id": "jCvn2_cDxJBL",
        "outputId": "7c6f3ee1-7ee2-4bc7-e2d3-7a3ca28c0270"
      },
      "outputs": [
        {
          "output_type": "stream",
          "name": "stdout",
          "text": [
            "       class                                              tweet\n",
            "85         0  \"@Blackman38Tide: @WhaleLookyHere @HowdyDowdy1...\n",
            "89         0  \"@CB_Baby24: @white_thunduh alsarabsss\" hes a ...\n",
            "110        0  \"@DevilGrimz: @VigxRArts you're fucking gay, b...\n",
            "184        0  \"@MarkRoundtreeJr: LMFAOOOO I HATE BLACK PEOPL...\n",
            "202        0  \"@NoChillPaz: \"At least I'm not a nigger\" http...\n",
            "...      ...                                                ...\n",
            "24576      0                this guy is the biggest faggot omfg\n",
            "24685      0  which one of these names is more offensive kik...\n",
            "24751      0         you a pussy ass nigga and I know it nigga.\n",
            "24776      0                                 you're all niggers\n",
            "24777      0  you're such a retard i hope you get type 2 dia...\n",
            "\n",
            "[1430 rows x 2 columns]\n",
            "       class                                              tweet\n",
            "1          1  !!!!! RT @mleew17: boy dats cold...tyga dwn ba...\n",
            "2          1  !!!!!!! RT @UrKindOfBrand Dawg!!!! RT @80sbaby...\n",
            "3          1  !!!!!!!!! RT @C_G_Anderson: @viva_based she lo...\n",
            "4          1  !!!!!!!!!!!!! RT @ShenikaRoberts: The shit you...\n",
            "5          1  !!!!!!!!!!!!!!!!!!\"@T_Madison_x: The shit just...\n",
            "...      ...                                                ...\n",
            "24774      1  you really care bout dis bitch. my dick all in...\n",
            "24775      1   you worried bout other bitches, you need me for?\n",
            "24778      1  you's a muthaf***in lie &#8220;@LifeAsKing: @2...\n",
            "24780      1  young buck wanna eat!!.. dat nigguh like I ain...\n",
            "24781      1              youu got wild bitches tellin you lies\n",
            "\n",
            "[19190 rows x 2 columns]\n"
          ]
        }
      ],
      "source": [
        "print(df_new[df_new['class']==0])\n",
        "print(df_new[df_new['class']==1])"
      ]
    },
    {
      "cell_type": "code",
      "execution_count": null,
      "metadata": {
        "id": "oZMEPfUvxJBL"
      },
      "outputs": [],
      "source": [
        "df_new[\"class\"].replace({0: 1}, inplace=True)"
      ]
    },
    {
      "cell_type": "code",
      "execution_count": null,
      "metadata": {
        "colab": {
          "base_uri": "https://localhost:8080/",
          "height": 53
        },
        "id": "d2da7cVOxJBL",
        "outputId": "7123855c-3adb-4895-e2ba-c66ba3994c0f"
      },
      "outputs": [
        {
          "output_type": "execute_result",
          "data": {
            "text/plain": [
              "Empty DataFrame\n",
              "Columns: [class, tweet]\n",
              "Index: []"
            ],
            "text/html": [
              "\n",
              "  <div id=\"df-7e9f609a-27c1-4c14-8441-a66d3b4897a1\" class=\"colab-df-container\">\n",
              "    <div>\n",
              "<style scoped>\n",
              "    .dataframe tbody tr th:only-of-type {\n",
              "        vertical-align: middle;\n",
              "    }\n",
              "\n",
              "    .dataframe tbody tr th {\n",
              "        vertical-align: top;\n",
              "    }\n",
              "\n",
              "    .dataframe thead th {\n",
              "        text-align: right;\n",
              "    }\n",
              "</style>\n",
              "<table border=\"1\" class=\"dataframe\">\n",
              "  <thead>\n",
              "    <tr style=\"text-align: right;\">\n",
              "      <th></th>\n",
              "      <th>class</th>\n",
              "      <th>tweet</th>\n",
              "    </tr>\n",
              "  </thead>\n",
              "  <tbody>\n",
              "  </tbody>\n",
              "</table>\n",
              "</div>\n",
              "    <div class=\"colab-df-buttons\">\n",
              "\n",
              "  <div class=\"colab-df-container\">\n",
              "    <button class=\"colab-df-convert\" onclick=\"convertToInteractive('df-7e9f609a-27c1-4c14-8441-a66d3b4897a1')\"\n",
              "            title=\"Convert this dataframe to an interactive table.\"\n",
              "            style=\"display:none;\">\n",
              "\n",
              "  <svg xmlns=\"http://www.w3.org/2000/svg\" height=\"24px\" viewBox=\"0 -960 960 960\">\n",
              "    <path d=\"M120-120v-720h720v720H120Zm60-500h600v-160H180v160Zm220 220h160v-160H400v160Zm0 220h160v-160H400v160ZM180-400h160v-160H180v160Zm440 0h160v-160H620v160ZM180-180h160v-160H180v160Zm440 0h160v-160H620v160Z\"/>\n",
              "  </svg>\n",
              "    </button>\n",
              "\n",
              "  <style>\n",
              "    .colab-df-container {\n",
              "      display:flex;\n",
              "      gap: 12px;\n",
              "    }\n",
              "\n",
              "    .colab-df-convert {\n",
              "      background-color: #E8F0FE;\n",
              "      border: none;\n",
              "      border-radius: 50%;\n",
              "      cursor: pointer;\n",
              "      display: none;\n",
              "      fill: #1967D2;\n",
              "      height: 32px;\n",
              "      padding: 0 0 0 0;\n",
              "      width: 32px;\n",
              "    }\n",
              "\n",
              "    .colab-df-convert:hover {\n",
              "      background-color: #E2EBFA;\n",
              "      box-shadow: 0px 1px 2px rgba(60, 64, 67, 0.3), 0px 1px 3px 1px rgba(60, 64, 67, 0.15);\n",
              "      fill: #174EA6;\n",
              "    }\n",
              "\n",
              "    .colab-df-buttons div {\n",
              "      margin-bottom: 4px;\n",
              "    }\n",
              "\n",
              "    [theme=dark] .colab-df-convert {\n",
              "      background-color: #3B4455;\n",
              "      fill: #D2E3FC;\n",
              "    }\n",
              "\n",
              "    [theme=dark] .colab-df-convert:hover {\n",
              "      background-color: #434B5C;\n",
              "      box-shadow: 0px 1px 3px 1px rgba(0, 0, 0, 0.15);\n",
              "      filter: drop-shadow(0px 1px 2px rgba(0, 0, 0, 0.3));\n",
              "      fill: #FFFFFF;\n",
              "    }\n",
              "  </style>\n",
              "\n",
              "    <script>\n",
              "      const buttonEl =\n",
              "        document.querySelector('#df-7e9f609a-27c1-4c14-8441-a66d3b4897a1 button.colab-df-convert');\n",
              "      buttonEl.style.display =\n",
              "        google.colab.kernel.accessAllowed ? 'block' : 'none';\n",
              "\n",
              "      async function convertToInteractive(key) {\n",
              "        const element = document.querySelector('#df-7e9f609a-27c1-4c14-8441-a66d3b4897a1');\n",
              "        const dataTable =\n",
              "          await google.colab.kernel.invokeFunction('convertToInteractive',\n",
              "                                                    [key], {});\n",
              "        if (!dataTable) return;\n",
              "\n",
              "        const docLinkHtml = 'Like what you see? Visit the ' +\n",
              "          '<a target=\"_blank\" href=https://colab.research.google.com/notebooks/data_table.ipynb>data table notebook</a>'\n",
              "          + ' to learn more about interactive tables.';\n",
              "        element.innerHTML = '';\n",
              "        dataTable['output_type'] = 'display_data';\n",
              "        await google.colab.output.renderOutput(dataTable, element);\n",
              "        const docLink = document.createElement('div');\n",
              "        docLink.innerHTML = docLinkHtml;\n",
              "        element.appendChild(docLink);\n",
              "      }\n",
              "    </script>\n",
              "  </div>\n",
              "\n",
              "    </div>\n",
              "  </div>\n"
            ]
          },
          "metadata": {},
          "execution_count": 13
        }
      ],
      "source": [
        "df_new[df_new['class']==0]"
      ]
    },
    {
      "cell_type": "code",
      "execution_count": null,
      "metadata": {
        "colab": {
          "base_uri": "https://localhost:8080/",
          "height": 206
        },
        "id": "D1D8dKPOxJBL",
        "outputId": "8c2fc2fa-ab0d-42a6-cc59-e7b786af2f06"
      },
      "outputs": [
        {
          "output_type": "execute_result",
          "data": {
            "text/plain": [
              "       label                                              tweet\n",
              "24778      1  you's a muthaf***in lie &#8220;@LifeAsKing: @2...\n",
              "24779      0  you've gone and broke the wrong heart baby, an...\n",
              "24780      1  young buck wanna eat!!.. dat nigguh like I ain...\n",
              "24781      1              youu got wild bitches tellin you lies\n",
              "24782      0  ~~Ruffled | Ntac Eileen Dahlia - Beautiful col..."
            ],
            "text/html": [
              "\n",
              "  <div id=\"df-1c7277d0-ee16-4216-a851-f9a0f70d1a3a\" class=\"colab-df-container\">\n",
              "    <div>\n",
              "<style scoped>\n",
              "    .dataframe tbody tr th:only-of-type {\n",
              "        vertical-align: middle;\n",
              "    }\n",
              "\n",
              "    .dataframe tbody tr th {\n",
              "        vertical-align: top;\n",
              "    }\n",
              "\n",
              "    .dataframe thead th {\n",
              "        text-align: right;\n",
              "    }\n",
              "</style>\n",
              "<table border=\"1\" class=\"dataframe\">\n",
              "  <thead>\n",
              "    <tr style=\"text-align: right;\">\n",
              "      <th></th>\n",
              "      <th>label</th>\n",
              "      <th>tweet</th>\n",
              "    </tr>\n",
              "  </thead>\n",
              "  <tbody>\n",
              "    <tr>\n",
              "      <th>24778</th>\n",
              "      <td>1</td>\n",
              "      <td>you's a muthaf***in lie &amp;#8220;@LifeAsKing: @2...</td>\n",
              "    </tr>\n",
              "    <tr>\n",
              "      <th>24779</th>\n",
              "      <td>0</td>\n",
              "      <td>you've gone and broke the wrong heart baby, an...</td>\n",
              "    </tr>\n",
              "    <tr>\n",
              "      <th>24780</th>\n",
              "      <td>1</td>\n",
              "      <td>young buck wanna eat!!.. dat nigguh like I ain...</td>\n",
              "    </tr>\n",
              "    <tr>\n",
              "      <th>24781</th>\n",
              "      <td>1</td>\n",
              "      <td>youu got wild bitches tellin you lies</td>\n",
              "    </tr>\n",
              "    <tr>\n",
              "      <th>24782</th>\n",
              "      <td>0</td>\n",
              "      <td>~~Ruffled | Ntac Eileen Dahlia - Beautiful col...</td>\n",
              "    </tr>\n",
              "  </tbody>\n",
              "</table>\n",
              "</div>\n",
              "    <div class=\"colab-df-buttons\">\n",
              "\n",
              "  <div class=\"colab-df-container\">\n",
              "    <button class=\"colab-df-convert\" onclick=\"convertToInteractive('df-1c7277d0-ee16-4216-a851-f9a0f70d1a3a')\"\n",
              "            title=\"Convert this dataframe to an interactive table.\"\n",
              "            style=\"display:none;\">\n",
              "\n",
              "  <svg xmlns=\"http://www.w3.org/2000/svg\" height=\"24px\" viewBox=\"0 -960 960 960\">\n",
              "    <path d=\"M120-120v-720h720v720H120Zm60-500h600v-160H180v160Zm220 220h160v-160H400v160Zm0 220h160v-160H400v160ZM180-400h160v-160H180v160Zm440 0h160v-160H620v160ZM180-180h160v-160H180v160Zm440 0h160v-160H620v160Z\"/>\n",
              "  </svg>\n",
              "    </button>\n",
              "\n",
              "  <style>\n",
              "    .colab-df-container {\n",
              "      display:flex;\n",
              "      gap: 12px;\n",
              "    }\n",
              "\n",
              "    .colab-df-convert {\n",
              "      background-color: #E8F0FE;\n",
              "      border: none;\n",
              "      border-radius: 50%;\n",
              "      cursor: pointer;\n",
              "      display: none;\n",
              "      fill: #1967D2;\n",
              "      height: 32px;\n",
              "      padding: 0 0 0 0;\n",
              "      width: 32px;\n",
              "    }\n",
              "\n",
              "    .colab-df-convert:hover {\n",
              "      background-color: #E2EBFA;\n",
              "      box-shadow: 0px 1px 2px rgba(60, 64, 67, 0.3), 0px 1px 3px 1px rgba(60, 64, 67, 0.15);\n",
              "      fill: #174EA6;\n",
              "    }\n",
              "\n",
              "    .colab-df-buttons div {\n",
              "      margin-bottom: 4px;\n",
              "    }\n",
              "\n",
              "    [theme=dark] .colab-df-convert {\n",
              "      background-color: #3B4455;\n",
              "      fill: #D2E3FC;\n",
              "    }\n",
              "\n",
              "    [theme=dark] .colab-df-convert:hover {\n",
              "      background-color: #434B5C;\n",
              "      box-shadow: 0px 1px 3px 1px rgba(0, 0, 0, 0.15);\n",
              "      filter: drop-shadow(0px 1px 2px rgba(0, 0, 0, 0.3));\n",
              "      fill: #FFFFFF;\n",
              "    }\n",
              "  </style>\n",
              "\n",
              "    <script>\n",
              "      const buttonEl =\n",
              "        document.querySelector('#df-1c7277d0-ee16-4216-a851-f9a0f70d1a3a button.colab-df-convert');\n",
              "      buttonEl.style.display =\n",
              "        google.colab.kernel.accessAllowed ? 'block' : 'none';\n",
              "\n",
              "      async function convertToInteractive(key) {\n",
              "        const element = document.querySelector('#df-1c7277d0-ee16-4216-a851-f9a0f70d1a3a');\n",
              "        const dataTable =\n",
              "          await google.colab.kernel.invokeFunction('convertToInteractive',\n",
              "                                                    [key], {});\n",
              "        if (!dataTable) return;\n",
              "\n",
              "        const docLinkHtml = 'Like what you see? Visit the ' +\n",
              "          '<a target=\"_blank\" href=https://colab.research.google.com/notebooks/data_table.ipynb>data table notebook</a>'\n",
              "          + ' to learn more about interactive tables.';\n",
              "        element.innerHTML = '';\n",
              "        dataTable['output_type'] = 'display_data';\n",
              "        await google.colab.output.renderOutput(dataTable, element);\n",
              "        const docLink = document.createElement('div');\n",
              "        docLink.innerHTML = docLinkHtml;\n",
              "        element.appendChild(docLink);\n",
              "      }\n",
              "    </script>\n",
              "  </div>\n",
              "\n",
              "\n",
              "<div id=\"df-8b498904-52b4-488e-8b6d-85a9399d585e\">\n",
              "  <button class=\"colab-df-quickchart\" onclick=\"quickchart('df-8b498904-52b4-488e-8b6d-85a9399d585e')\"\n",
              "            title=\"Suggest charts\"\n",
              "            style=\"display:none;\">\n",
              "\n",
              "<svg xmlns=\"http://www.w3.org/2000/svg\" height=\"24px\"viewBox=\"0 0 24 24\"\n",
              "     width=\"24px\">\n",
              "    <g>\n",
              "        <path d=\"M19 3H5c-1.1 0-2 .9-2 2v14c0 1.1.9 2 2 2h14c1.1 0 2-.9 2-2V5c0-1.1-.9-2-2-2zM9 17H7v-7h2v7zm4 0h-2V7h2v10zm4 0h-2v-4h2v4z\"/>\n",
              "    </g>\n",
              "</svg>\n",
              "  </button>\n",
              "\n",
              "<style>\n",
              "  .colab-df-quickchart {\n",
              "      --bg-color: #E8F0FE;\n",
              "      --fill-color: #1967D2;\n",
              "      --hover-bg-color: #E2EBFA;\n",
              "      --hover-fill-color: #174EA6;\n",
              "      --disabled-fill-color: #AAA;\n",
              "      --disabled-bg-color: #DDD;\n",
              "  }\n",
              "\n",
              "  [theme=dark] .colab-df-quickchart {\n",
              "      --bg-color: #3B4455;\n",
              "      --fill-color: #D2E3FC;\n",
              "      --hover-bg-color: #434B5C;\n",
              "      --hover-fill-color: #FFFFFF;\n",
              "      --disabled-bg-color: #3B4455;\n",
              "      --disabled-fill-color: #666;\n",
              "  }\n",
              "\n",
              "  .colab-df-quickchart {\n",
              "    background-color: var(--bg-color);\n",
              "    border: none;\n",
              "    border-radius: 50%;\n",
              "    cursor: pointer;\n",
              "    display: none;\n",
              "    fill: var(--fill-color);\n",
              "    height: 32px;\n",
              "    padding: 0;\n",
              "    width: 32px;\n",
              "  }\n",
              "\n",
              "  .colab-df-quickchart:hover {\n",
              "    background-color: var(--hover-bg-color);\n",
              "    box-shadow: 0 1px 2px rgba(60, 64, 67, 0.3), 0 1px 3px 1px rgba(60, 64, 67, 0.15);\n",
              "    fill: var(--button-hover-fill-color);\n",
              "  }\n",
              "\n",
              "  .colab-df-quickchart-complete:disabled,\n",
              "  .colab-df-quickchart-complete:disabled:hover {\n",
              "    background-color: var(--disabled-bg-color);\n",
              "    fill: var(--disabled-fill-color);\n",
              "    box-shadow: none;\n",
              "  }\n",
              "\n",
              "  .colab-df-spinner {\n",
              "    border: 2px solid var(--fill-color);\n",
              "    border-color: transparent;\n",
              "    border-bottom-color: var(--fill-color);\n",
              "    animation:\n",
              "      spin 1s steps(1) infinite;\n",
              "  }\n",
              "\n",
              "  @keyframes spin {\n",
              "    0% {\n",
              "      border-color: transparent;\n",
              "      border-bottom-color: var(--fill-color);\n",
              "      border-left-color: var(--fill-color);\n",
              "    }\n",
              "    20% {\n",
              "      border-color: transparent;\n",
              "      border-left-color: var(--fill-color);\n",
              "      border-top-color: var(--fill-color);\n",
              "    }\n",
              "    30% {\n",
              "      border-color: transparent;\n",
              "      border-left-color: var(--fill-color);\n",
              "      border-top-color: var(--fill-color);\n",
              "      border-right-color: var(--fill-color);\n",
              "    }\n",
              "    40% {\n",
              "      border-color: transparent;\n",
              "      border-right-color: var(--fill-color);\n",
              "      border-top-color: var(--fill-color);\n",
              "    }\n",
              "    60% {\n",
              "      border-color: transparent;\n",
              "      border-right-color: var(--fill-color);\n",
              "    }\n",
              "    80% {\n",
              "      border-color: transparent;\n",
              "      border-right-color: var(--fill-color);\n",
              "      border-bottom-color: var(--fill-color);\n",
              "    }\n",
              "    90% {\n",
              "      border-color: transparent;\n",
              "      border-bottom-color: var(--fill-color);\n",
              "    }\n",
              "  }\n",
              "</style>\n",
              "\n",
              "  <script>\n",
              "    async function quickchart(key) {\n",
              "      const quickchartButtonEl =\n",
              "        document.querySelector('#' + key + ' button');\n",
              "      quickchartButtonEl.disabled = true;  // To prevent multiple clicks.\n",
              "      quickchartButtonEl.classList.add('colab-df-spinner');\n",
              "      try {\n",
              "        const charts = await google.colab.kernel.invokeFunction(\n",
              "            'suggestCharts', [key], {});\n",
              "      } catch (error) {\n",
              "        console.error('Error during call to suggestCharts:', error);\n",
              "      }\n",
              "      quickchartButtonEl.classList.remove('colab-df-spinner');\n",
              "      quickchartButtonEl.classList.add('colab-df-quickchart-complete');\n",
              "    }\n",
              "    (() => {\n",
              "      let quickchartButtonEl =\n",
              "        document.querySelector('#df-8b498904-52b4-488e-8b6d-85a9399d585e button');\n",
              "      quickchartButtonEl.style.display =\n",
              "        google.colab.kernel.accessAllowed ? 'block' : 'none';\n",
              "    })();\n",
              "  </script>\n",
              "</div>\n",
              "    </div>\n",
              "  </div>\n"
            ]
          },
          "metadata": {},
          "execution_count": 14
        }
      ],
      "source": [
        "df_new[\"class\"].replace({2: 0}, inplace=True)\n",
        "df_new.rename(columns ={'class':'label'}, inplace = True)\n",
        "df_new.tail()"
      ]
    },
    {
      "cell_type": "markdown",
      "source": [
        "### Concatenation"
      ],
      "metadata": {
        "id": "-ZJG2H5dtorM"
      }
    },
    {
      "cell_type": "code",
      "execution_count": null,
      "metadata": {
        "colab": {
          "base_uri": "https://localhost:8080/",
          "height": 206
        },
        "id": "-flEUpgZxJBM",
        "outputId": "0bdacf08-6a29-4aba-d819-1de88b085bdd"
      },
      "outputs": [
        {
          "output_type": "execute_result",
          "data": {
            "text/plain": [
              "   label                                              tweet\n",
              "0      0   @user when a father is dysfunctional and is s...\n",
              "1      0  @user @user thanks for #lyft credit i can't us...\n",
              "2      0                                bihday your majesty\n",
              "3      0  #model   i love u take with u all the time in ...\n",
              "4      0             factsguide: society now    #motivation"
            ],
            "text/html": [
              "\n",
              "  <div id=\"df-119e416d-db7a-4205-b847-e3aeb4539d9d\" class=\"colab-df-container\">\n",
              "    <div>\n",
              "<style scoped>\n",
              "    .dataframe tbody tr th:only-of-type {\n",
              "        vertical-align: middle;\n",
              "    }\n",
              "\n",
              "    .dataframe tbody tr th {\n",
              "        vertical-align: top;\n",
              "    }\n",
              "\n",
              "    .dataframe thead th {\n",
              "        text-align: right;\n",
              "    }\n",
              "</style>\n",
              "<table border=\"1\" class=\"dataframe\">\n",
              "  <thead>\n",
              "    <tr style=\"text-align: right;\">\n",
              "      <th></th>\n",
              "      <th>label</th>\n",
              "      <th>tweet</th>\n",
              "    </tr>\n",
              "  </thead>\n",
              "  <tbody>\n",
              "    <tr>\n",
              "      <th>0</th>\n",
              "      <td>0</td>\n",
              "      <td>@user when a father is dysfunctional and is s...</td>\n",
              "    </tr>\n",
              "    <tr>\n",
              "      <th>1</th>\n",
              "      <td>0</td>\n",
              "      <td>@user @user thanks for #lyft credit i can't us...</td>\n",
              "    </tr>\n",
              "    <tr>\n",
              "      <th>2</th>\n",
              "      <td>0</td>\n",
              "      <td>bihday your majesty</td>\n",
              "    </tr>\n",
              "    <tr>\n",
              "      <th>3</th>\n",
              "      <td>0</td>\n",
              "      <td>#model   i love u take with u all the time in ...</td>\n",
              "    </tr>\n",
              "    <tr>\n",
              "      <th>4</th>\n",
              "      <td>0</td>\n",
              "      <td>factsguide: society now    #motivation</td>\n",
              "    </tr>\n",
              "  </tbody>\n",
              "</table>\n",
              "</div>\n",
              "    <div class=\"colab-df-buttons\">\n",
              "\n",
              "  <div class=\"colab-df-container\">\n",
              "    <button class=\"colab-df-convert\" onclick=\"convertToInteractive('df-119e416d-db7a-4205-b847-e3aeb4539d9d')\"\n",
              "            title=\"Convert this dataframe to an interactive table.\"\n",
              "            style=\"display:none;\">\n",
              "\n",
              "  <svg xmlns=\"http://www.w3.org/2000/svg\" height=\"24px\" viewBox=\"0 -960 960 960\">\n",
              "    <path d=\"M120-120v-720h720v720H120Zm60-500h600v-160H180v160Zm220 220h160v-160H400v160Zm0 220h160v-160H400v160ZM180-400h160v-160H180v160Zm440 0h160v-160H620v160ZM180-180h160v-160H180v160Zm440 0h160v-160H620v160Z\"/>\n",
              "  </svg>\n",
              "    </button>\n",
              "\n",
              "  <style>\n",
              "    .colab-df-container {\n",
              "      display:flex;\n",
              "      gap: 12px;\n",
              "    }\n",
              "\n",
              "    .colab-df-convert {\n",
              "      background-color: #E8F0FE;\n",
              "      border: none;\n",
              "      border-radius: 50%;\n",
              "      cursor: pointer;\n",
              "      display: none;\n",
              "      fill: #1967D2;\n",
              "      height: 32px;\n",
              "      padding: 0 0 0 0;\n",
              "      width: 32px;\n",
              "    }\n",
              "\n",
              "    .colab-df-convert:hover {\n",
              "      background-color: #E2EBFA;\n",
              "      box-shadow: 0px 1px 2px rgba(60, 64, 67, 0.3), 0px 1px 3px 1px rgba(60, 64, 67, 0.15);\n",
              "      fill: #174EA6;\n",
              "    }\n",
              "\n",
              "    .colab-df-buttons div {\n",
              "      margin-bottom: 4px;\n",
              "    }\n",
              "\n",
              "    [theme=dark] .colab-df-convert {\n",
              "      background-color: #3B4455;\n",
              "      fill: #D2E3FC;\n",
              "    }\n",
              "\n",
              "    [theme=dark] .colab-df-convert:hover {\n",
              "      background-color: #434B5C;\n",
              "      box-shadow: 0px 1px 3px 1px rgba(0, 0, 0, 0.15);\n",
              "      filter: drop-shadow(0px 1px 2px rgba(0, 0, 0, 0.3));\n",
              "      fill: #FFFFFF;\n",
              "    }\n",
              "  </style>\n",
              "\n",
              "    <script>\n",
              "      const buttonEl =\n",
              "        document.querySelector('#df-119e416d-db7a-4205-b847-e3aeb4539d9d button.colab-df-convert');\n",
              "      buttonEl.style.display =\n",
              "        google.colab.kernel.accessAllowed ? 'block' : 'none';\n",
              "\n",
              "      async function convertToInteractive(key) {\n",
              "        const element = document.querySelector('#df-119e416d-db7a-4205-b847-e3aeb4539d9d');\n",
              "        const dataTable =\n",
              "          await google.colab.kernel.invokeFunction('convertToInteractive',\n",
              "                                                    [key], {});\n",
              "        if (!dataTable) return;\n",
              "\n",
              "        const docLinkHtml = 'Like what you see? Visit the ' +\n",
              "          '<a target=\"_blank\" href=https://colab.research.google.com/notebooks/data_table.ipynb>data table notebook</a>'\n",
              "          + ' to learn more about interactive tables.';\n",
              "        element.innerHTML = '';\n",
              "        dataTable['output_type'] = 'display_data';\n",
              "        await google.colab.output.renderOutput(dataTable, element);\n",
              "        const docLink = document.createElement('div');\n",
              "        docLink.innerHTML = docLinkHtml;\n",
              "        element.appendChild(docLink);\n",
              "      }\n",
              "    </script>\n",
              "  </div>\n",
              "\n",
              "\n",
              "<div id=\"df-1a64436f-e0c2-4437-9dd6-27ac1ead1b90\">\n",
              "  <button class=\"colab-df-quickchart\" onclick=\"quickchart('df-1a64436f-e0c2-4437-9dd6-27ac1ead1b90')\"\n",
              "            title=\"Suggest charts\"\n",
              "            style=\"display:none;\">\n",
              "\n",
              "<svg xmlns=\"http://www.w3.org/2000/svg\" height=\"24px\"viewBox=\"0 0 24 24\"\n",
              "     width=\"24px\">\n",
              "    <g>\n",
              "        <path d=\"M19 3H5c-1.1 0-2 .9-2 2v14c0 1.1.9 2 2 2h14c1.1 0 2-.9 2-2V5c0-1.1-.9-2-2-2zM9 17H7v-7h2v7zm4 0h-2V7h2v10zm4 0h-2v-4h2v4z\"/>\n",
              "    </g>\n",
              "</svg>\n",
              "  </button>\n",
              "\n",
              "<style>\n",
              "  .colab-df-quickchart {\n",
              "      --bg-color: #E8F0FE;\n",
              "      --fill-color: #1967D2;\n",
              "      --hover-bg-color: #E2EBFA;\n",
              "      --hover-fill-color: #174EA6;\n",
              "      --disabled-fill-color: #AAA;\n",
              "      --disabled-bg-color: #DDD;\n",
              "  }\n",
              "\n",
              "  [theme=dark] .colab-df-quickchart {\n",
              "      --bg-color: #3B4455;\n",
              "      --fill-color: #D2E3FC;\n",
              "      --hover-bg-color: #434B5C;\n",
              "      --hover-fill-color: #FFFFFF;\n",
              "      --disabled-bg-color: #3B4455;\n",
              "      --disabled-fill-color: #666;\n",
              "  }\n",
              "\n",
              "  .colab-df-quickchart {\n",
              "    background-color: var(--bg-color);\n",
              "    border: none;\n",
              "    border-radius: 50%;\n",
              "    cursor: pointer;\n",
              "    display: none;\n",
              "    fill: var(--fill-color);\n",
              "    height: 32px;\n",
              "    padding: 0;\n",
              "    width: 32px;\n",
              "  }\n",
              "\n",
              "  .colab-df-quickchart:hover {\n",
              "    background-color: var(--hover-bg-color);\n",
              "    box-shadow: 0 1px 2px rgba(60, 64, 67, 0.3), 0 1px 3px 1px rgba(60, 64, 67, 0.15);\n",
              "    fill: var(--button-hover-fill-color);\n",
              "  }\n",
              "\n",
              "  .colab-df-quickchart-complete:disabled,\n",
              "  .colab-df-quickchart-complete:disabled:hover {\n",
              "    background-color: var(--disabled-bg-color);\n",
              "    fill: var(--disabled-fill-color);\n",
              "    box-shadow: none;\n",
              "  }\n",
              "\n",
              "  .colab-df-spinner {\n",
              "    border: 2px solid var(--fill-color);\n",
              "    border-color: transparent;\n",
              "    border-bottom-color: var(--fill-color);\n",
              "    animation:\n",
              "      spin 1s steps(1) infinite;\n",
              "  }\n",
              "\n",
              "  @keyframes spin {\n",
              "    0% {\n",
              "      border-color: transparent;\n",
              "      border-bottom-color: var(--fill-color);\n",
              "      border-left-color: var(--fill-color);\n",
              "    }\n",
              "    20% {\n",
              "      border-color: transparent;\n",
              "      border-left-color: var(--fill-color);\n",
              "      border-top-color: var(--fill-color);\n",
              "    }\n",
              "    30% {\n",
              "      border-color: transparent;\n",
              "      border-left-color: var(--fill-color);\n",
              "      border-top-color: var(--fill-color);\n",
              "      border-right-color: var(--fill-color);\n",
              "    }\n",
              "    40% {\n",
              "      border-color: transparent;\n",
              "      border-right-color: var(--fill-color);\n",
              "      border-top-color: var(--fill-color);\n",
              "    }\n",
              "    60% {\n",
              "      border-color: transparent;\n",
              "      border-right-color: var(--fill-color);\n",
              "    }\n",
              "    80% {\n",
              "      border-color: transparent;\n",
              "      border-right-color: var(--fill-color);\n",
              "      border-bottom-color: var(--fill-color);\n",
              "    }\n",
              "    90% {\n",
              "      border-color: transparent;\n",
              "      border-bottom-color: var(--fill-color);\n",
              "    }\n",
              "  }\n",
              "</style>\n",
              "\n",
              "  <script>\n",
              "    async function quickchart(key) {\n",
              "      const quickchartButtonEl =\n",
              "        document.querySelector('#' + key + ' button');\n",
              "      quickchartButtonEl.disabled = true;  // To prevent multiple clicks.\n",
              "      quickchartButtonEl.classList.add('colab-df-spinner');\n",
              "      try {\n",
              "        const charts = await google.colab.kernel.invokeFunction(\n",
              "            'suggestCharts', [key], {});\n",
              "      } catch (error) {\n",
              "        console.error('Error during call to suggestCharts:', error);\n",
              "      }\n",
              "      quickchartButtonEl.classList.remove('colab-df-spinner');\n",
              "      quickchartButtonEl.classList.add('colab-df-quickchart-complete');\n",
              "    }\n",
              "    (() => {\n",
              "      let quickchartButtonEl =\n",
              "        document.querySelector('#df-1a64436f-e0c2-4437-9dd6-27ac1ead1b90 button');\n",
              "      quickchartButtonEl.style.display =\n",
              "        google.colab.kernel.accessAllowed ? 'block' : 'none';\n",
              "    })();\n",
              "  </script>\n",
              "</div>\n",
              "    </div>\n",
              "  </div>\n"
            ]
          },
          "metadata": {},
          "execution_count": 15
        }
      ],
      "source": [
        "frame=[df_train,df_new]\n",
        "df = pd.concat(frame)\n",
        "df.head()"
      ]
    },
    {
      "cell_type": "code",
      "source": [
        "# Plot the distribution of the target variable in new dataframe.\n",
        "plt.pie(df['label'].value_counts(), labels=['Non-hate', 'Hate'], autopct='%1.1f%%', shadow=True, startangle=90)\n",
        "plt.title('Distribution of tweets')\n",
        "plt.show()"
      ],
      "metadata": {
        "colab": {
          "base_uri": "https://localhost:8080/",
          "height": 428
        },
        "id": "0v9Wy3PdcpGt",
        "outputId": "1bda38f7-cb55-400b-d4c6-3020a796a650"
      },
      "execution_count": null,
      "outputs": [
        {
          "output_type": "display_data",
          "data": {
            "text/plain": [
              "<Figure size 640x480 with 1 Axes>"
            ],
            "image/png": "[encoded data removed]"
          },
          "metadata": {}
        }
      ]
    },
    {
      "cell_type": "code",
      "source": [
        "# Print number of hate and non-hate tweets.\n",
        "class_count = df['label'].value_counts()\n",
        "print('Number of hate tweets: {}'.format(class_count[1]))\n",
        "print('Number of non-hate tweets: {}'.format(class_count[0]))"
      ],
      "metadata": {
        "colab": {
          "base_uri": "https://localhost:8080/"
        },
        "id": "M34wAjGIcxnX",
        "outputId": "0fce4a68-4fb5-45cb-bba4-cebd0e3b4a42"
      },
      "execution_count": null,
      "outputs": [
        {
          "output_type": "stream",
          "name": "stdout",
          "text": [
            "Number of hate tweets: 22862\n",
            "Number of non-hate tweets: 33883\n"
          ]
        }
      ]
    },
    {
      "cell_type": "markdown",
      "source": [
        "### Data Cleaning"
      ],
      "metadata": {
        "id": "_YDBUIybrl5s"
      }
    },
    {
      "cell_type": "code",
      "execution_count": null,
      "metadata": {
        "id": "KBKOdLSyxJBM"
      },
      "outputs": [],
      "source": [
        "stemmer = nltk.SnowballStemmer(\"english\")\n",
        "stopword=set(stopwords.words('english'))\n",
        "\n",
        "def clean_text(text):\n",
        "    \"\"\"\n",
        "    Cleans the given text by converting it to lowercase, removing symbols in square brackets,\n",
        "    removing URLs, removing HTML tags, removing punctuation, removing newline characters,\n",
        "    removing words containing numbers, removing stopwords, and stemming words.\n",
        "\n",
        "    Args:\n",
        "        text (str): The text to be cleaned.\n",
        "\n",
        "    Returns:\n",
        "        str: The cleaned text.\n",
        "    \"\"\"\n",
        "    text = str(text).lower() # Convert to lowercase.\n",
        "    text = re.sub('\\[.*?\\]', '', text) # Remove symbols in square brackets.\n",
        "    text = re.sub('https?://\\S+|www\\.\\S+', '', text) # Remove URLs.\n",
        "    text = re.sub('<.*?>+', '', text) # Remove HTML tags.\n",
        "    text = re.sub('[%s]' % re.escape(string.punctuation), '', text) # Remove punctuation.\n",
        "    text = re.sub('\\n', '', text) # Remove newline characters.\n",
        "    text = re.sub('\\w*\\d\\w*', '', text) # Remove words containing numbers.\n",
        "    text = [word for word in text.split(' ') if word not in stopword] # Remove stopwords.\n",
        "    text=\" \".join(text) # Join list of words in to a string separated by space.\n",
        "    text = [stemmer.stem(word) for word in text.split(' ')] # Stem words.\n",
        "    text=\" \".join(text) # Join list of words in to a string separated by space.\n",
        "    return text\n",
        "\n",
        "# Clean the text in the dataset.\n",
        "df['tweet']=df['tweet'].apply(clean_text)"
      ]
    },
    {
      "cell_type": "code",
      "source": [
        "print(df.tail())"
      ],
      "metadata": {
        "colab": {
          "base_uri": "https://localhost:8080/"
        },
        "id": "yaCgxN_qeYKS",
        "outputId": "92bf7d21-18f5-4454-bd92-4f281bcd2029"
      },
      "execution_count": null,
      "outputs": [
        {
          "output_type": "stream",
          "name": "stdout",
          "text": [
            "       label                                              tweet\n",
            "24778      1  yous muthafin lie   coreyemanuel right tl tras...\n",
            "24779      0  youv gone broke wrong heart babi drove redneck...\n",
            "24780      1  young buck wanna eat dat nigguh like aint fuck...\n",
            "24781      1                     youu got wild bitch tellin lie\n",
            "24782      0  ruffl  ntac eileen dahlia  beauti color combin...\n"
          ]
        }
      ]
    },
    {
      "cell_type": "code",
      "execution_count": null,
      "metadata": {
        "colab": {
          "base_uri": "https://localhost:8080/"
        },
        "id": "vy6dKlGwxJBM",
        "outputId": "13b0e9e6-1b52-40c6-bccc-6cbfb31ee14b"
      },
      "outputs": [
        {
          "output_type": "stream",
          "name": "stdout",
          "text": [
            "42558 42558\n",
            "14187 14187\n"
          ]
        }
      ],
      "source": [
        "# Input data.\n",
        "x=df['tweet']\n",
        "\n",
        "# Target variable.\n",
        "y=df['label']\n",
        "\n",
        "# Split the data into training and testing sets.\n",
        "x_train, x_test, y_train, y_test = train_test_split(x, y, random_state=42)\n",
        "print(len(x_train), len(y_train))\n",
        "print(len(x_test), len(y_test))"
      ]
    },
    {
      "cell_type": "markdown",
      "source": [
        "\n",
        "\n",
        "### Data Vectorization"
      ],
      "metadata": {
        "id": "_s0Se_iitz5c"
      }
    },
    {
      "cell_type": "code",
      "execution_count": null,
      "metadata": {
        "colab": {
          "base_uri": "https://localhost:8080/"
        },
        "id": "vYSqg_uvxJBM",
        "outputId": "1987a5b3-39cc-435d-d71f-3aa56523c833"
      },
      "outputs": [
        {
          "output_type": "execute_result",
          "data": {
            "text/plain": [
              "array([[0, 0, 0, ..., 0, 0, 0],\n",
              "       [0, 0, 0, ..., 0, 0, 0],\n",
              "       [0, 0, 0, ..., 0, 0, 0],\n",
              "       ...,\n",
              "       [0, 0, 0, ..., 0, 0, 0],\n",
              "       [0, 0, 0, ..., 0, 0, 0],\n",
              "       [0, 0, 0, ..., 0, 0, 0]])"
            ]
          },
          "metadata": {},
          "execution_count": 21
        }
      ],
      "source": [
        "# Vectorize the text data using CountVectorizer.\n",
        "count = CountVectorizer(stop_words='english', ngram_range=(1,5))\n",
        "\n",
        "# Fit and transform the training data using CountVectorizer.\n",
        "x_train_vectorizer=count.fit_transform(x_train)\n",
        "# Transform the test data using the fitted CountVectorizer.\n",
        "x_test_vectorizer=count.transform(x_test)\n",
        "# Convert the training data to a dense array representation.\n",
        "x_train_vectorizer.toarray()"
      ]
    },
    {
      "cell_type": "markdown",
      "source": [
        "### Data Transformation"
      ],
      "metadata": {
        "id": "IEkDQtrSt3Qc"
      }
    },
    {
      "cell_type": "code",
      "execution_count": null,
      "metadata": {
        "id": "nDkhyKrqxJBM"
      },
      "outputs": [],
      "source": [
        "# Transform data using TF-IDF transformer.\n",
        "tfidf = TfidfTransformer()\n",
        "\n",
        "# Fit and transform the training data using TF-IDF transformer.\n",
        "x_train_tfidf = tfidf.fit_transform(x_train_vectorizer)\n",
        "# Transform the test data using the fitted TF-IDF transformer.\n",
        "x_train_tfidf.toarray()\n",
        "x_test_tfidf = tfidf.transform(x_test_vectorizer)"
      ]
    },
    {
      "cell_type": "markdown",
      "metadata": {
        "id": "znpGLOAhyTJG"
      },
      "source": [
        "### Tokenization"
      ]
    },
    {
      "cell_type": "code",
      "execution_count": null,
      "metadata": {
        "id": "CzM8bODjyXCS"
      },
      "outputs": [],
      "source": [
        "# Tokenize the text data.\n",
        "max_words = 50000\n",
        "max_len = 300\n",
        "tokenizer = Tokenizer(num_words=max_words)\n",
        "tokenizer.fit_on_texts(x_train)\n",
        "# Convert the text data to sequence.\n",
        "sequences = tokenizer.texts_to_sequences(x_train)\n",
        "# Pads the sequences to ensure same length.\n",
        "sequences_matrix = sequence.pad_sequences(sequences,maxlen=max_len)"
      ]
    },
    {
      "cell_type": "markdown",
      "source": [
        "### Training"
      ],
      "metadata": {
        "id": "iH0bRVpguJSP"
      }
    },
    {
      "cell_type": "code",
      "execution_count": null,
      "metadata": {
        "colab": {
          "base_uri": "https://localhost:8080/"
        },
        "id": "-wWVNfR_yaXx",
        "outputId": "e26890f6-0aa6-4cd6-8ee7-92a2fc0d0428"
      },
      "outputs": [
        {
          "output_type": "stream",
          "name": "stdout",
          "text": [
            "Model: \"sequential\"\n",
            "_________________________________________________________________\n",
            " Layer (type)                Output Shape              Param #   \n",
            "=================================================================\n",
            " embedding (Embedding)       (None, 300, 100)          5000000   \n",
            "                                                                 \n",
            " spatial_dropout1d (Spatial  (None, 300, 100)          0         \n",
            " Dropout1D)                                                      \n",
            "                                                                 \n",
            " lstm (LSTM)                 (None, 100)               80400     \n",
            "                                                                 \n",
            " dense (Dense)               (None, 1)                 101       \n",
            "                                                                 \n",
            "=================================================================\n",
            "Total params: 5080501 (19.38 MB)\n",
            "Trainable params: 5080501 (19.38 MB)\n",
            "Non-trainable params: 0 (0.00 Byte)\n",
            "_________________________________________________________________\n"
          ]
        }
      ],
      "source": [
        "# Build a LSTM model.\n",
        "model = Sequential()\n",
        "model.add(Embedding(max_words, 100, input_length=max_len))\n",
        "model.add(SpatialDropout1D(0.2))\n",
        "model.add(LSTM(100, dropout=0.2, recurrent_dropout=0.2))\n",
        "model.add(Dense(1, activation='sigmoid'))\n",
        "model.summary()\n",
        "\n",
        "# Compile the model.\n",
        "model.compile(loss='binary_crossentropy',optimizer=RMSprop(),metrics=['accuracy'])"
      ]
    },
    {
      "cell_type": "code",
      "execution_count": null,
      "metadata": {
        "id": "UO37Gc3jyil1"
      },
      "outputs": [],
      "source": [
        "# Define early stopping to prevent overfitting.\n",
        "es = EarlyStopping(\n",
        "    monitor='val_accuracy',\n",
        "    mode='max',\n",
        "    patience=5\n",
        ")"
      ]
    },
    {
      "cell_type": "code",
      "execution_count": null,
      "metadata": {
        "colab": {
          "base_uri": "https://localhost:8080/"
        },
        "id": "Ynz7gwpYyj_A",
        "outputId": "d7c86484-7a14-4e77-d1fc-f5ae86e2a3fe"
      },
      "outputs": [
        {
          "output_type": "stream",
          "name": "stdout",
          "text": [
            "Epoch 1/10\n",
            "34/34 [==============================] - 278s 8s/step - loss: 0.6306 - accuracy: 0.6557 - val_loss: 0.5034 - val_accuracy: 0.8079\n",
            "Epoch 2/10\n",
            "34/34 [==============================] - 264s 8s/step - loss: 0.3758 - accuracy: 0.8708 - val_loss: 0.2789 - val_accuracy: 0.9054\n",
            "Epoch 3/10\n",
            "34/34 [==============================] - 264s 8s/step - loss: 0.2427 - accuracy: 0.9188 - val_loss: 0.2075 - val_accuracy: 0.9310\n",
            "Epoch 4/10\n",
            "34/34 [==============================] - 265s 8s/step - loss: 0.1830 - accuracy: 0.9363 - val_loss: 0.1749 - val_accuracy: 0.9404\n",
            "Epoch 5/10\n",
            "34/34 [==============================] - 317s 9s/step - loss: 0.1536 - accuracy: 0.9469 - val_loss: 0.1715 - val_accuracy: 0.9403\n",
            "Epoch 6/10\n",
            "34/34 [==============================] - 270s 8s/step - loss: 0.1339 - accuracy: 0.9543 - val_loss: 0.1645 - val_accuracy: 0.9420\n",
            "Epoch 7/10\n",
            "34/34 [==============================] - 267s 8s/step - loss: 0.1183 - accuracy: 0.9613 - val_loss: 0.1615 - val_accuracy: 0.9451\n",
            "Epoch 8/10\n",
            "34/34 [==============================] - 271s 8s/step - loss: 0.1087 - accuracy: 0.9643 - val_loss: 0.1673 - val_accuracy: 0.9454\n",
            "Epoch 9/10\n",
            "34/34 [==============================] - 265s 8s/step - loss: 0.0961 - accuracy: 0.9693 - val_loss: 0.1681 - val_accuracy: 0.9457\n",
            "Epoch 10/10\n",
            "34/34 [==============================] - 271s 8s/step - loss: 0.0884 - accuracy: 0.9725 - val_loss: 0.1670 - val_accuracy: 0.9468\n"
          ]
        }
      ],
      "source": [
        "# Train the model.\n",
        "history=model.fit(sequences_matrix,y_train,batch_size=1024,epochs=10,\n",
        "          validation_split=0.2,callbacks=[es])"
      ]
    },
    {
      "cell_type": "code",
      "execution_count": null,
      "metadata": {
        "id": "MJOMrEuoyuN9"
      },
      "outputs": [],
      "source": [
        "# Process the test data by converting it into sequences and padding them.\n",
        "test_sequences = tokenizer.texts_to_sequences(x_test)\n",
        "test_sequences_matrix = sequence.pad_sequences(test_sequences,maxlen=max_len)"
      ]
    },
    {
      "cell_type": "code",
      "execution_count": null,
      "metadata": {
        "colab": {
          "base_uri": "https://localhost:8080/"
        },
        "id": "C5B2kEK_3I9z",
        "outputId": "9a52691f-a6fb-42da-c0a5-ab3e20fb3acf"
      },
      "outputs": [
        {
          "output_type": "stream",
          "name": "stdout",
          "text": [
            "444/444 [==============================] - 41s 92ms/step - loss: 0.1797 - accuracy: 0.9387\n"
          ]
        }
      ],
      "source": [
        "# Check accuracy of model on test data.\n",
        "lstm_prediction=model.predict(test_sequences_matrix)\n",
        "accuracy = model.evaluate(test_sequences_matrix,y_test)"
      ]
    },
    {
      "cell_type": "code",
      "source": [
        "# Save the model\n",
        "model.save('lstm_model.h5')"
      ],
      "metadata": {
        "id": "2MLdhj5IzLmT",
        "colab": {
          "base_uri": "https://localhost:8080/"
        },
        "outputId": "e10d5555-3cdd-4770-9e31-36b5d03c180f"
      },
      "execution_count": null,
      "outputs": [
        {
          "output_type": "stream",
          "name": "stderr",
          "text": [
            "/usr/local/lib/python3.10/dist-packages/keras/src/engine/training.py:3103: UserWarning: You are saving your model as an HDF5 file via `model.save()`. This file format is considered legacy. We recommend using instead the native Keras format, e.g. `model.save('my_model.keras')`.\n",
            "  saving_api.save_model(\n"
          ]
        }
      ]
    },
    {
      "cell_type": "code",
      "source": [
        "# Making a single prediction\n",
        "new_tweet = 'I hate you'\n",
        "new_tweet = clean_text(new_tweet)\n",
        "new_tweet = tokenizer.texts_to_sequences([new_tweet])\n",
        "new_tweet = sequence.pad_sequences(new_tweet, maxlen=max_len)\n",
        "prediction = model.predict(new_tweet)\n",
        "if(prediction>0.5):\n",
        "    print(\"Hate speech\")\n",
        "else:\n",
        "    print(\"Non hate speech\")\n"
      ],
      "metadata": {
        "id": "tJfhNQDRzIXZ",
        "colab": {
          "base_uri": "https://localhost:8080/"
        },
        "outputId": "15f61fd4-6148-4708-bb25-aac2166f0370"
      },
      "execution_count": null,
      "outputs": [
        {
          "output_type": "stream",
          "name": "stdout",
          "text": [
            "1/1 [==============================] - 0s 99ms/step\n",
            "Hate speech\n"
          ]
        }
      ]
    },
    {
      "cell_type": "markdown",
      "source": [
        "# 5 Part D - Testing"
      ],
      "metadata": {
        "id": "sFKPLwB-ziMy"
      }
    },
    {
      "cell_type": "markdown",
      "source": [
        "## White Box Testing"
      ],
      "metadata": {
        "id": "PlsYsDHI03Ao"
      }
    },
    {
      "cell_type": "markdown",
      "source": [
        "These were some additional tests conducted to evaluate the model and its perfomance,\n",
        "\n",
        "\n",
        "<table>\n",
        "    <tr>\n",
        "        <th>Testing Method Description</th>\n",
        "        <th>Result</th>\n",
        "        <th>Evaluation</th>\n",
        "    </tr>\n",
        "    <tr>\n",
        "        <td>Model Architecture Verification</td>\n",
        "        <td>Passed</td>\n",
        "        <td><p>Verify that the LSTM model architecture matches the</p> <p>intended design. Check the number of layers, hidden units, </p><p>activation functions, and input/output dimensions.</p></td>\n",
        "    </tr>\n",
        "    <tr>\n",
        "        <td>Learning Rate Sensitivity Analysis</td>\n",
        "        <td>Passed</td>\n",
        "        <td><p>Evaluate the model's sensitivity to different learning</p>  <p>rates. Test multiple learning rates and observe how they</p> <p>affect convergence and overall performance.</td>\n",
        "    </tr>\n",
        "    <tr>\n",
        "        <td>Activation Function Assessment</td>\n",
        "        <td>Passed</td>\n",
        "        <td><p>Experiment with different activation functions (e.g., sigmoid, tanh)</p> <p>within the LSTM layers. Determine which <p>activation functions lead to better convergence and </p><p>discrimination between classes.</p></td>\n",
        "    </tr>\n",
        "    <tr>\n",
        "        <td>Dropout Effectiveness</td>\n",
        "        <td>Passed</td>\n",
        "        <td><p>Test the impact of dropout regularization on the model's</p> <p>performance. Assess different dropout rates and evaluate</p><p>their effectiveness in preventing overfitting.</p></td>\n",
        "    </tr>\n",
        "    <tr>\n",
        "        <td>Input Sequence Length Variation</td>\n",
        "        <td>Passed</td>\n",
        "        <td><p>Evaluate the model's robustness to variations in input</p>  \n",
        "        <p>sequence length. Test different tweet lengths to ensure the model</p>  <p>can handle tweets of varying lengths effectively.</p>\n",
        "        </td>\n",
        "    </tr>\n",
        "    <tr>\n",
        "        <td>Hyperparameter Sensitivity Testing</td>\n",
        "        <td>Passed</td>\n",
        "        <td><p>Conduct tests by varying hyperparameters such as batch size,</p> <p>epochs, and the number of LSTM units. Evaluate the impact of these</p>  <p>hyperparameters on model performance.</p> </td>\n",
        "    </tr>\n",
        "</table>\n",
        "\n"
      ],
      "metadata": {
        "id": "78LNvK2YhUwx"
      }
    },
    {
      "cell_type": "markdown",
      "source": [
        "## Accuracy"
      ],
      "metadata": {
        "id": "3g2ncEgd0z6i"
      }
    },
    {
      "cell_type": "code",
      "source": [
        "# Check accuracy of model on test data.\n",
        "accuracy = model.evaluate(test_sequences_matrix,y_test)"
      ],
      "metadata": {
        "colab": {
          "base_uri": "https://localhost:8080/"
        },
        "id": "bXFbqEt-WtL7",
        "outputId": "0954944a-38f5-4f20-8634-3094fa04fe7d"
      },
      "execution_count": null,
      "outputs": [
        {
          "output_type": "stream",
          "name": "stdout",
          "text": [
            "444/444 [==============================] - 45s 101ms/step - loss: 0.1797 - accuracy: 0.9387\n"
          ]
        }
      ]
    },
    {
      "cell_type": "markdown",
      "source": [
        "## Training and Validation Accuracy"
      ],
      "metadata": {
        "id": "FTPpjmIk0Q2R"
      }
    },
    {
      "cell_type": "code",
      "source": [
        "# Plot the training and validation accuracy of the model.\n",
        "plt.plot(history.history['accuracy'])\n",
        "plt.plot(history.history['val_accuracy'])\n",
        "plt.title('Model Accuracy')\n",
        "plt.ylabel('Accuracy')\n",
        "plt.xlabel('Epoch')\n",
        "plt.legend(['Train','Validation'], loc='upper left')\n",
        "plt.show()"
      ],
      "metadata": {
        "colab": {
          "base_uri": "https://localhost:8080/",
          "height": 472
        },
        "id": "dE84EYPKTe5N",
        "outputId": "aeedc610-2710-4c41-c850-96cbaa0947a3"
      },
      "execution_count": null,
      "outputs": [
        {
          "output_type": "display_data",
          "data": {
            "text/plain": [
              "<Figure size 640x480 with 1 Axes>"
            ],
            "image/png": "[encoded data removed]"
          },
          "metadata": {}
        }
      ]
    },
    {
      "cell_type": "markdown",
      "source": [
        "This graph shows a desirable outcome where both accuracies are steadily increasing during training which suggests that its learning well from the data. Even though there is no significant increase in val_accuracy after the 3rd epoch, the accuracy did not reduce so it can be said that the model is reliable and generalizable."
      ],
      "metadata": {
        "id": "xeKiLgu5EstR"
      }
    },
    {
      "cell_type": "markdown",
      "source": [
        "## Training and Validation Loss"
      ],
      "metadata": {
        "id": "zFNjw1DQT4hp"
      }
    },
    {
      "cell_type": "code",
      "source": [
        "# Plot the training and validation loss.\n",
        "plt.plot(history.history['loss'])\n",
        "plt.plot(history.history['val_loss'])\n",
        "plt.title('Model Loss')\n",
        "plt.ylabel('Loss')\n",
        "plt.xlabel('Epoch')\n",
        "plt.legend(['Train','Validation'], loc='upper right')\n",
        "plt.show()"
      ],
      "metadata": {
        "colab": {
          "base_uri": "https://localhost:8080/",
          "height": 472
        },
        "id": "NIjHBM5IUPa7",
        "outputId": "629f53e0-482b-4d05-a5ee-29d90847972a"
      },
      "execution_count": null,
      "outputs": [
        {
          "output_type": "display_data",
          "data": {
            "text/plain": [
              "<Figure size 640x480 with 1 Axes>"
            ],
            "image/png": "[encoded data removed]"
          },
          "metadata": {}
        }
      ]
    },
    {
      "cell_type": "markdown",
      "source": [
        "This training and validation loss graph shows a desirable outcome where both accuracies are steadily decreasing during training which suggests that its learning effectively from the data. Even though there is no significant decrease in val_loss after the 3rd epoch, the loss did not increase so it can be said that the model can perform well with unseen data across various samples."
      ],
      "metadata": {
        "id": "SDTQPCKZFQsl"
      }
    },
    {
      "cell_type": "markdown",
      "source": [
        "# 6 Part E - Evaluate results"
      ],
      "metadata": {
        "id": "TQsPS9u-1USK"
      }
    },
    {
      "cell_type": "markdown",
      "source": [
        "## Confusion Matrix"
      ],
      "metadata": {
        "id": "KZwfDUD8zreL"
      }
    },
    {
      "cell_type": "code",
      "source": [
        "# Print the confusion matrix.\n",
        "from sklearn.metrics import confusion_matrix\n",
        "cm = confusion_matrix(y_test, lstm_prediction.round())\n",
        "plt.figure(figsize=(5,5))\n",
        "sns.heatmap(cm, annot=True, fmt=\".1f\", linewidths=.5, square = True, cmap = 'Blues')\n",
        "plt.ylabel('Actual label')\n",
        "plt.xlabel('Predicted label')\n",
        "plt.title('Confusion Matrix')\n",
        "plt.show()"
      ],
      "metadata": {
        "colab": {
          "base_uri": "https://localhost:8080/",
          "height": 427
        },
        "id": "AM7PET6CdIj9",
        "outputId": "4612933b-e59b-4343-8627-a862e8b2dbd3"
      },
      "execution_count": null,
      "outputs": [
        {
          "output_type": "display_data",
          "data": {
            "text/plain": [
              "<Figure size 500x500 with 2 Axes>"
            ],
            "image/png": "[encoded data removed]"
          },
          "metadata": {}
        }
      ]
    },
    {
      "cell_type": "markdown",
      "source": [
        "## Evaluation Metrics"
      ],
      "metadata": {
        "id": "pCQw9wA43Ckl"
      }
    },
    {
      "cell_type": "code",
      "source": [
        "# Print f1 score.\n",
        "from sklearn.metrics import f1_score\n",
        "print('F1 score: {}'.format(f1_score(y_test, lstm_prediction.round())))\n",
        "\n",
        "# Print precision score.\n",
        "from sklearn.metrics import precision_score\n",
        "print('Precision score: {}'.format(precision_score(y_test, lstm_prediction.round())))\n",
        "\n",
        "# Print recall score.\n",
        "from sklearn.metrics import recall_score\n",
        "print('Recall score: {}'.format(recall_score(y_test, lstm_prediction.round())))"
      ],
      "metadata": {
        "colab": {
          "base_uri": "https://localhost:8080/"
        },
        "id": "FPMQDH0mfRh9",
        "outputId": "14cd24ad-5ec2-4b56-c8b1-3423c0c399e9"
      },
      "execution_count": null,
      "outputs": [
        {
          "output_type": "stream",
          "name": "stdout",
          "text": [
            "F1 score: 0.9227624211181228\n",
            "Precision score: 0.9409099148087728\n",
            "Recall score: 0.9053017091035926\n"
          ]
        }
      ]
    },
    {
      "cell_type": "code",
      "source": [
        "from sklearn.metrics import classification_report\n",
        "report = classification_report(y_test, lstm_prediction.round(), target_names = ['Non-hate','Hate'])\n",
        "print(report)"
      ],
      "metadata": {
        "colab": {
          "base_uri": "https://localhost:8080/"
        },
        "id": "z360in7ud9lM",
        "outputId": "0fb534e2-df22-4706-e24e-2873df575ffa"
      },
      "execution_count": null,
      "outputs": [
        {
          "output_type": "stream",
          "name": "stdout",
          "text": [
            "              precision    recall  f1-score   support\n",
            "\n",
            "    Non-hate       0.94      0.96      0.95      8453\n",
            "        Hate       0.94      0.91      0.92      5734\n",
            "\n",
            "    accuracy                           0.94     14187\n",
            "   macro avg       0.94      0.93      0.94     14187\n",
            "weighted avg       0.94      0.94      0.94     14187\n",
            "\n"
          ]
        }
      ]
    },
    {
      "cell_type": "markdown",
      "source": [
        "The model demonstrates good performance, as proved by its F1 score of 0.92. The F1 score, which is a mean of precision and recall, attains a value of over 0.9 which  highlights the model's ability for  a well-balanced nature between the two essential metrics.\n",
        "\n",
        "Moving to precision, the model achieves an impressive score of 0.94. This proves that the model can effectively minimize the occurrence of false positives.\n",
        "\n",
        "Similarly, the recall score of 0.90 emphasizes the model's effectiveness which implies that the model can comprehensively cover a huge proportion of real hate speech instances.\n",
        "\n",
        "Therefore, these metrics overall suggest that is a robust and well-rounded model that can accurately classify and identify toxicity in tweets."
      ],
      "metadata": {
        "id": "iEGZdUcO6hrx"
      }
    },
    {
      "cell_type": "markdown",
      "source": [
        "## ROC/AUC Curves"
      ],
      "metadata": {
        "id": "FwBR0b3P3N3z"
      }
    },
    {
      "cell_type": "code",
      "source": [
        "# Print ROC curve.\n",
        "from sklearn.metrics import roc_curve\n",
        "fpr, tpr, thresholds = roc_curve(y_test, lstm_prediction)\n",
        "plt.plot([0,1],[0,1],'k--')\n",
        "plt.plot(fpr,tpr, label='LSTM')\n",
        "plt.xlabel('False Positive Rate')\n",
        "plt.ylabel('True Positive Rate')\n",
        "plt.title('ROC Curve')\n",
        "plt.show()\n"
      ],
      "metadata": {
        "colab": {
          "base_uri": "https://localhost:8080/",
          "height": 472
        },
        "id": "m-88cnlBfmPt",
        "outputId": "dbeeb494-4d58-4cc4-a085-3f31fed411e2"
      },
      "execution_count": null,
      "outputs": [
        {
          "output_type": "display_data",
          "data": {
            "text/plain": [
              "<Figure size 640x480 with 1 Axes>"
            ],
            "image/png": "[encoded data removed]"
          },
          "metadata": {}
        }
      ]
    },
    {
      "cell_type": "code",
      "source": [
        "# Print the auc score.\n",
        "from sklearn.metrics import auc\n",
        "auc_score=auc(fpr,tpr)\n",
        "print('AUC score: {}'.format(auc_score))"
      ],
      "metadata": {
        "colab": {
          "base_uri": "https://localhost:8080/"
        },
        "id": "u40vsDzPgTCa",
        "outputId": "d082faee-d222-4dbd-d462-4820ab9ba9f5"
      },
      "execution_count": null,
      "outputs": [
        {
          "output_type": "stream",
          "name": "stdout",
          "text": [
            "AUC score: 0.9777927675015106\n"
          ]
        }
      ]
    },
    {
      "cell_type": "markdown",
      "source": [
        "The ROC curve indicats the models ability to correctly identify between true positive and false positive rates across various probabilities.\n",
        "\n",
        "Further, the AUC score of 0.98 proves the model's exemplary perfomance as its closer to 1."
      ],
      "metadata": {
        "id": "23i21KUp8kog"
      }
    },
    {
      "cell_type": "markdown",
      "source": [
        "# 7 Conclusion\n",
        "\n",
        "In conclusion, automated classification of toxicity in tweets is a vital task in the realm of speech and text recognition. It refers to identifying patterns in data that deviate significantly from the everyday habits of speech. The goal is to identify hate speech or offensive language that could indicate immoral behavior and mitigate consequences prior to significant damage and viral movement. Automated classification of toxicity can be challenging due to the fact that it requires the ability to interpret sequential and varying text data leading to detecting unusual patterns and correctly distinguishing between them. Machine learning techniques such as Random Forest, Support Vector Machine and Long Short Term Memory are commonly used for hatespeech detection. Preprocessing the data by exploring, cleaning, transforming and vectorization is important to achieve best perfomance.The proposed prototype achieved high accuracy and exemplary metrics which proved that the proposed model can be used for general purposes."
      ],
      "metadata": {
        "id": "BVXz9B671jHG"
      }
    },
    {
      "cell_type": "markdown",
      "source": [
        "# 8 References\n",
        "\n",
        "ADL (2018) Quantifying Hate: A Year of Anti-Semitism on Twitter. Available at: https://doi.org/10.13140/RG.2.2.11649.81769 (Accessed: 4 January 2024).\n",
        "\n",
        "Aluru, S., Mathew, B., Saha, P. and Mukherjee, A. (2020) ‘BERTweet: A pre-trained language model for English Tweets’, in Proceedings of the 2020 Conference on Empirical Methods in Natural Language Processing: System Demonstrations. Association for Computational Linguistics, pp. 9–14. Available at: https://doi.org/10.18653/v1/2020.emnlp-demos.2 (Accessed: 7 January 2024).\n",
        "\n",
        "Amnesty International (2018) Toxic Twitter: A Toxic Place for Women. Available at: https://www.amnesty.org/en/latest/research/2018/03/online-violence-against-women-chapter-1/ (Accessed: 4 January 2024).\n",
        "\n",
        "Davidson, T., Warmsley, D., Macy, M. and Weber, I. (2017) ‘Automated hate speech detection and the problem of offensive language’, in Eleventh International AAAI Conference on Web and Social Media. Available at: https://ojs.aaai.org/index.php/ICWSM/article/view/14955 (Accessed: 6 January 2024).\n",
        "\n",
        "Elmrabit, N. et al. (2020). Evaluation of Machine Learning Algorithms for Anomaly Detection. _2020 International Conference on Cyber Security and Protection of Digital Services (Cyber Security)_. June 2020. Dublin, Ireland: IEEE, 1–8. Available from https://doi.org/10.1109/CyberSecurity49315.2020.9138871 [Accessed 4 January 2023].\n",
        "\n",
        "Nobata, C., Tetreault, J., Thomas, A., Mehdad, Y. and Chang, Y. (2016) ‘Abusive language detection in online user content’, in Proceedings of the 25th international conference on world wide web. International World Wide Web Conferences Steering Committee, pp. 145–153. Available at: https://doi.org/10.1145/2872427.2883062 (Accessed: 6 January 2024).\n",
        "\n",
        "Zhang, Z., Robinson, D., Tepper, J. and Perez, J. (2018) ‘Detecting hate speech on Twitter using a convolution-gru based deep neural network’, in European Semantic Web Conference. Springer, pp. 745–760. Available at: https://doi.org/10.1007/978-3-319-93417-4_47 (Accessed: 6 January 2024)."
      ],
      "metadata": {
        "id": "0SfIk81H7BX5"
      }
    }
  ],
  "metadata": {
    "colab": {
      "provenance": [],
      "toc_visible": true
    },
    "kernelspec": {
      "display_name": "Python 3",
      "language": "python",
      "name": "python3"
    },
    "language_info": {
      "codemirror_mode": {
        "name": "ipython",
        "version": 3
      },
      "file_extension": ".py",
      "mimetype": "text/x-python",
      "name": "python",
      "nbconvert_exporter": "python",
      "pygments_lexer": "ipython3",
      "version": "3.11.5"
    }
  },
  "nbformat": 4,
  "nbformat_minor": 0
}